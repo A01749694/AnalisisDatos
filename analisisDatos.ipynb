{
 "cells": [
  {
   "cell_type": "markdown",
   "metadata": {},
   "source": [
    "# Evidencia\n",
    "## Equipo\n",
    "- Sebastian Antonio Almanza - A01749694\n",
    "- Lizbeth Islas Becerril - A01749904"
   ]
  },
  {
   "cell_type": "markdown",
   "metadata": {},
   "source": [
    "## Estadistica descriptiva"
   ]
  },
  {
   "cell_type": "code",
   "execution_count": 30,
   "metadata": {},
   "outputs": [],
   "source": [
    "import pandas as pd\n",
    "import seaborn as sns\n",
    "import matplotlib.pyplot as plt"
   ]
  },
  {
   "cell_type": "code",
   "execution_count": 31,
   "metadata": {},
   "outputs": [],
   "source": [
    "df = pd.read_csv('user_behavior_dataset_clean.csv')"
   ]
  },
  {
   "cell_type": "code",
   "execution_count": 32,
   "metadata": {},
   "outputs": [
    {
     "name": "stdout",
     "output_type": "stream",
     "text": [
      "<class 'pandas.core.frame.DataFrame'>\n",
      "RangeIndex: 700 entries, 0 to 699\n",
      "Data columns (total 11 columns):\n",
      " #   Column                Non-Null Count  Dtype  \n",
      "---  ------                --------------  -----  \n",
      " 0   User ID               700 non-null    int64  \n",
      " 1   Device Model          700 non-null    object \n",
      " 2   OS                    700 non-null    object \n",
      " 3   AppUsageTime          700 non-null    int64  \n",
      " 4   ScreenOnTime          700 non-null    float64\n",
      " 5   BatteryDrain          700 non-null    int64  \n",
      " 6   NumberOfAppInstalled  700 non-null    int64  \n",
      " 7   DataUsage             700 non-null    int64  \n",
      " 8   Age                   700 non-null    int64  \n",
      " 9   Gender                700 non-null    object \n",
      " 10  UserBehaviorClass     700 non-null    int64  \n",
      "dtypes: float64(1), int64(7), object(3)\n",
      "memory usage: 60.3+ KB\n"
     ]
    }
   ],
   "source": [
    "df.info()"
   ]
  },
  {
   "cell_type": "code",
   "execution_count": 33,
   "metadata": {},
   "outputs": [
    {
     "name": "stdout",
     "output_type": "stream",
     "text": [
      "5.272714285714286\n",
      "271.12857142857143\n",
      "1525.1585714285713\n",
      "929.7428571428571\n"
     ]
    }
   ],
   "source": [
    "media_tiempoPantalla = df['ScreenOnTime'].mean()\n",
    "media_usoApp = df['AppUsageTime'].mean()\n",
    "media_usoBateria = df['BatteryDrain'].mean()\n",
    "media_usoDatos = df['DataUsage'].mean()\n",
    "\n",
    "print(media_tiempoPantalla)\n",
    "print(media_usoApp)\n",
    "print(media_usoBateria)\n",
    "print(media_usoDatos)"
   ]
  },
  {
   "cell_type": "code",
   "execution_count": 34,
   "metadata": {},
   "outputs": [
    {
     "name": "stdout",
     "output_type": "stream",
     "text": [
      "4.9\n",
      "227.5\n",
      "1502.5\n",
      "823.5\n"
     ]
    }
   ],
   "source": [
    "mediana_tiempoPantalla = df['ScreenOnTime'].median()\n",
    "mediana_usoApp = df['AppUsageTime'].median()\n",
    "mediana_usoBateria = df['BatteryDrain'].median()\n",
    "mediana_usoDatos = df['DataUsage'].median()\n",
    "\n",
    "print(mediana_tiempoPantalla)\n",
    "print(mediana_usoApp)\n",
    "print(mediana_usoBateria)\n",
    "print(mediana_usoDatos)"
   ]
  },
  {
   "cell_type": "code",
   "execution_count": 35,
   "metadata": {},
   "outputs": [
    {
     "name": "stdout",
     "output_type": "stream",
     "text": [
      "1.6\n",
      "64\n",
      "490\n",
      "122\n"
     ]
    }
   ],
   "source": [
    "moda_tiempoPantalla = df['ScreenOnTime'].mode()[0]\n",
    "moda_usoApp = df['AppUsageTime'].mode()[0]\n",
    "moda_usoBateria = df['BatteryDrain'].mode()[0]\n",
    "moda_usoDatos = df['DataUsage'].mode()[0]\n",
    "\n",
    "print(moda_tiempoPantalla)\n",
    "print(moda_usoApp)\n",
    "print(moda_usoBateria)\n",
    "print(moda_usoDatos)"
   ]
  },
  {
   "cell_type": "markdown",
   "metadata": {},
   "source": [
    "## Tablas"
   ]
  }
 ],
 "metadata": {
  "kernelspec": {
   "display_name": "Python 3",
   "language": "python",
   "name": "python3"
  },
  "language_info": {
   "codemirror_mode": {
    "name": "ipython",
    "version": 3
   },
   "file_extension": ".py",
   "mimetype": "text/x-python",
   "name": "python",
   "nbconvert_exporter": "python",
   "pygments_lexer": "ipython3",
   "version": "3.9.6"
  }
 },
 "nbformat": 4,
 "nbformat_minor": 2
}
